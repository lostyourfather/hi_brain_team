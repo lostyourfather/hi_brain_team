{
 "cells": [
  {
   "cell_type": "code",
   "execution_count": 7,
   "metadata": {},
   "outputs": [],
   "source": [
    "import pandas as pd\n",
    "import re\n",
    "from pymystem3 import Mystem\n",
    "\n",
    "pd.options.mode.chained_assignment = None"
   ]
  },
  {
   "cell_type": "markdown",
   "metadata": {},
   "source": [
    "## Обработка таксономии"
   ]
  },
  {
   "cell_type": "code",
   "execution_count": 8,
   "metadata": {},
   "outputs": [],
   "source": [
    "column_names = ['direction', 'type', 'name', 'percent']\n",
    "data_skills = pd.DataFrame(columns=column_names)\n",
    "for i in range(0,6):\n",
    "    skills_list = pd.read_excel('Таксономии на основе анализа рынка труда.xlsx', \n",
    "                                sheet_name=i, names=column_names, usecols=[0,1,2,3])\n",
    "    data_skills = pd.concat([data_skills, skills_list])"
   ]
  },
  {
   "cell_type": "code",
   "execution_count": 9,
   "metadata": {},
   "outputs": [],
   "source": [
    "def is_percent(percent):\n",
    "    if percent > 1:\n",
    "        percent = percent/100\n",
    "    return percent\n",
    "    \n",
    "data_skills['percent'] = data_skills['percent'].apply(is_percent)"
   ]
  },
  {
   "cell_type": "code",
   "execution_count": 10,
   "metadata": {},
   "outputs": [],
   "source": [
    "data_skills = data_skills.query('percent >= 0.1')\n",
    "data_skills.reset_index(drop=True, inplace=True)"
   ]
  },
  {
   "cell_type": "code",
   "execution_count": 11,
   "metadata": {},
   "outputs": [],
   "source": [
    "def remove_multiple_spaces(text):\n",
    "    return re.sub(r'\\s+', ' ', text, flags=re.I)"
   ]
  },
  {
   "cell_type": "code",
   "execution_count": 12,
   "metadata": {},
   "outputs": [],
   "source": [
    "data_skills['evo_name'] = data_skills['name'].str.lower()"
   ]
  },
  {
   "cell_type": "code",
   "execution_count": 13,
   "metadata": {},
   "outputs": [],
   "source": [
    "def remove_punctuation(text):\n",
    "    text = text.replace('\\\\', ' ')\n",
    "    text = text.replace('!', ' ')\n",
    "    text = text.replace('.', ' ')\n",
    "    text = text.replace('/', ' ')\n",
    "    text = text.replace('^', ' ')\n",
    "    text = text.replace(':', ' ')\n",
    "    text = text.replace('_', ' ')\n",
    "    text = text.replace(';', ' ')\n",
    "    text = text.replace('`', ' ') \n",
    "    text = text.replace(',', ' ')\n",
    "    text = text.replace('-', ' ')\n",
    "    text = text.replace('=', ' ')\n",
    "    text = text.replace('(', ' ')\n",
    "    text = text.replace(')', ' ')\n",
    "    text = text.replace('$', ' ') \n",
    "    text = text.replace('%', ' ')\n",
    "    text = text.replace('&', ' ')\n",
    "    text = text.replace('@', ' ')\n",
    "    text = text.replace('[', ' ')\n",
    "    text = text.replace(']', ' ')\n",
    "    text = text.replace('~', ' ')\n",
    "    text = text.replace('‚', ' ')\n",
    "    text = text.replace('’', ' ')\n",
    "    text = text.replace('➢',' ')\n",
    "    text = text.replace('•',' ')\n",
    "    text = text.replace('●',' ')\n",
    "    text = text.replace(\"'\",' ')\n",
    "    text = text.replace('\"',' ')\n",
    "    text = text.replace('«',' ')\n",
    "    text = text.replace('»',' ')\n",
    "    return text\n",
    "\n",
    "data_skills['evo_name'] = data_skills['evo_name'].apply(remove_punctuation)"
   ]
  },
  {
   "cell_type": "code",
   "execution_count": 14,
   "metadata": {},
   "outputs": [],
   "source": [
    "data_skills['evo_name'] = data_skills['evo_name'].apply(lambda x: x.strip())"
   ]
  },
  {
   "cell_type": "code",
   "execution_count": 15,
   "metadata": {},
   "outputs": [],
   "source": [
    "def lemmatize(text):\n",
    "    m = Mystem()\n",
    "    union_text = \"&&\".join(text)\n",
    "    lemm_list = m.lemmatize(union_text)\n",
    "    lemm_union_text = \"\".join(lemm_list)\n",
    "    lemm_text_list = lemm_union_text.lower().split('&&')\n",
    "    return lemm_text_list\n",
    "\n",
    "data_skills['evo_name'] = lemmatize(data_skills['evo_name'])"
   ]
  },
  {
   "cell_type": "code",
   "execution_count": 16,
   "metadata": {},
   "outputs": [],
   "source": [
    "cnt = -1\n",
    "def basic(text, text_cell):\n",
    "    global cnt\n",
    "    cnt+=1\n",
    "    if '+' in text:\n",
    "        text = text[:-2] + '\\\\' + text[-2:-1]\n",
    "    reg_exp = r'\\W' + r'{}'.format(text) + r'\\W'\n",
    "    find_word = re.findall(reg_exp, text_cell)\n",
    "#     print(len(find_word))\n",
    "#     print(cnt)\n",
    "    return len(find_word)"
   ]
  },
  {
   "cell_type": "markdown",
   "metadata": {},
   "source": [
    "## Обработка текста ПЦС и расчет метрики по ПЦС"
   ]
  },
  {
   "cell_type": "code",
   "execution_count": 17,
   "metadata": {},
   "outputs": [],
   "source": [
    "data_texts = pd.read_csv('file.csv')"
   ]
  },
  {
   "cell_type": "code",
   "execution_count": 18,
   "metadata": {},
   "outputs": [],
   "source": [
    "data_texts.dropna(subset=['text'], inplace=True)"
   ]
  },
  {
   "cell_type": "code",
   "execution_count": 19,
   "metadata": {},
   "outputs": [],
   "source": [
    "texts_sample = data_texts\n",
    "# texts_sample = data_texts.sample(300, random_state=0)\n",
    "texts_sample.reset_index(drop=True, inplace=True)"
   ]
  },
  {
   "cell_type": "code",
   "execution_count": 20,
   "metadata": {},
   "outputs": [],
   "source": [
    "texts_sample['text'] = texts_sample['text'].apply(remove_multiple_spaces)\n",
    "texts_sample['text'] = texts_sample['text'].apply(remove_punctuation)\n",
    "texts_sample['text'] = texts_sample['text'].str.lower()"
   ]
  },
  {
   "cell_type": "code",
   "execution_count": 21,
   "metadata": {},
   "outputs": [],
   "source": [
    "texts_sample['text'] = lemmatize(texts_sample['text'])"
   ]
  },
  {
   "cell_type": "code",
   "execution_count": 22,
   "metadata": {},
   "outputs": [],
   "source": [
    "for i in range(len(texts_sample)):\n",
    "    data_skills['text_{}'.format(i)] = data_skills['evo_name'].apply(lambda text: basic(text, texts_sample['text'][i]))"
   ]
  },
  {
   "cell_type": "code",
   "execution_count": 23,
   "metadata": {},
   "outputs": [],
   "source": [
    "primary_skills = {'ML':'машинный обучение', 'AR/VR':'виртуальный реальность', 'аналитик данных':'анализ данный', \n",
    "               'Специалист по обласным вычислениям и распределенным системам':'облачный система', \n",
    "               'геймдизайнер':'геймдизайн', 'Образовательный дата-инженер':'big data'}\n",
    "\n",
    "instr_dict = {'Инструменты': 4, 'Области знаний': 2, 'Софт скилл': 1, 'Хард скилл': 1.5, 'Действия/задачи': 3,\n",
    "              'Действия/задачи;Хард скилл': 3, 'Функции/задачи': 3}\n",
    "\n",
    "data_skills['weight_instr'] = 0 \n",
    "data_skills['primary_skills'] = 1 \n",
    "\n",
    "for key, value in instr_dict.items():\n",
    "    data_skills['weight_instr'].loc[data_skills['type'] == '{}'.format(key)] = value \n",
    "    \n",
    "for key, value in primary_skills.items():\n",
    "    data_skills['primary_skills'].loc[data_skills['evo_name'] == '{}'.format(value)] = 23    "
   ]
  },
  {
   "cell_type": "code",
   "execution_count": 24,
   "metadata": {},
   "outputs": [],
   "source": [
    "data_skills = data_skills.merge(1/(data_skills['name'].value_counts()), left_on='name', right_index=True)"
   ]
  },
  {
   "cell_type": "code",
   "execution_count": 25,
   "metadata": {},
   "outputs": [],
   "source": [
    "for key, value in primary_skills.items():\n",
    "    ar_vr = data_skills[data_skills['direction'] == '{}'.format(key)]\n",
    "    list_of = []\n",
    "    for i in range(len(texts_sample)):\n",
    "        recall_w = len(ar_vr[ar_vr['text_{}'.format(i)] != 0]) / len(ar_vr) \n",
    "        list_of.append((ar_vr['text_{}'.format(i)] * \n",
    "                        ar_vr['percent'] *\n",
    "                        ar_vr['weight_instr'] *\n",
    "                        ar_vr['primary_skills'] *\n",
    "                        ar_vr['name_y']).sum() + recall_w)\n",
    "    list_of=pd.Series(list_of)\n",
    "    texts_sample['{}'.format(key)] = list_of"
   ]
  },
  {
   "cell_type": "code",
   "execution_count": 29,
   "metadata": {},
   "outputs": [],
   "source": [
    "fin_course = pd.DataFrame()\n",
    "for key, value in primary_skills.items():\n",
    "    temp = texts_sample[['id', 'title_of_program', '{}'.format(key), 'provider']]\n",
    "    temp = temp.sort_values(by='{}'.format(key), ascending=False).head(5)\n",
    "    temp['category'] = key\n",
    "    temp = temp.drop(columns='{}'.format(key))\n",
    "    fin_course = pd.concat([fin_course, temp])"
   ]
  },
  {
   "cell_type": "code",
   "execution_count": 439,
   "metadata": {},
   "outputs": [],
   "source": [
    "fin_course.to_csv('fin_course.csv')"
   ]
  },
  {
   "cell_type": "markdown",
   "metadata": {},
   "source": [
    "## Обработка текста ВУЗов и расчет метрики по ВУЗам"
   ]
  },
  {
   "cell_type": "code",
   "execution_count": 453,
   "metadata": {},
   "outputs": [],
   "source": [
    "column_names = ['direction', 'type', 'name', 'percent']\n",
    "data_skills = pd.DataFrame(columns=column_names)\n",
    "for i in range(0,6):\n",
    "    skills_list = pd.read_excel('Таксономии на основе анализа рынка труда.xlsx', \n",
    "                                sheet_name=i, names=column_names, usecols=[0,1,2,3])\n",
    "    data_skills = pd.concat([data_skills, skills_list])"
   ]
  },
  {
   "cell_type": "code",
   "execution_count": 454,
   "metadata": {},
   "outputs": [],
   "source": [
    "data_skills['percent'] = data_skills['percent'].apply(is_percent)\n",
    "data_skills = data_skills.query('percent >= 0.1')\n",
    "data_skills.reset_index(drop=True, inplace=True)\n",
    "data_skills['evo_name'] = data_skills['name'].str.lower()\n",
    "data_skills['evo_name'] = data_skills['evo_name'].apply(remove_punctuation)\n",
    "data_skills['evo_name'] = data_skills['evo_name'].apply(lambda x: x.strip())\n",
    "data_skills['evo_name'] = lemmatize(data_skills['evo_name'])"
   ]
  },
  {
   "cell_type": "code",
   "execution_count": 455,
   "metadata": {},
   "outputs": [],
   "source": [
    "data_univer = pd.read_csv('universities.csv')"
   ]
  },
  {
   "cell_type": "code",
   "execution_count": 456,
   "metadata": {},
   "outputs": [],
   "source": [
    "texts_sample = data_univer\n",
    "# texts_sample = data_texts.sample(300, random_state=0)\n",
    "texts_sample.reset_index(drop=True, inplace=True)"
   ]
  },
  {
   "cell_type": "code",
   "execution_count": 457,
   "metadata": {},
   "outputs": [],
   "source": [
    "texts_sample['text'] = texts_sample['text'].apply(remove_multiple_spaces)\n",
    "texts_sample['text'] = texts_sample['text'].apply(remove_punctuation)\n",
    "texts_sample['text'] = texts_sample['text'].str.lower()"
   ]
  },
  {
   "cell_type": "code",
   "execution_count": 458,
   "metadata": {},
   "outputs": [],
   "source": [
    "texts_sample['text'] = lemmatize(texts_sample['text'])"
   ]
  },
  {
   "cell_type": "code",
   "execution_count": 459,
   "metadata": {},
   "outputs": [],
   "source": [
    "for i in range(len(texts_sample)):\n",
    "    data_skills['text_{}'.format(i)] = data_skills['evo_name'].apply(lambda text: basic(text, texts_sample['text'][i]))"
   ]
  },
  {
   "cell_type": "code",
   "execution_count": 460,
   "metadata": {},
   "outputs": [],
   "source": [
    "primary_skills = {'ML':'машинный обучение', 'AR/VR':'виртуальный реальность', 'аналитик данных':'анализ данный', \n",
    "               'Специалист по обласным вычислениям и распределенным системам':'облачный система', \n",
    "               'геймдизайнер':'геймдизайн', 'Образовательный дата-инженер':'big data'}\n",
    "\n",
    "instr_dict = {'Инструменты': 4, 'Области знаний': 2, 'Софт скилл': 1, 'Хард скилл': 1.5, 'Действия/задачи': 3,\n",
    "              'Действия/задачи;Хард скилл': 3, 'Функции/задачи': 3}\n",
    "\n",
    "data_skills['weight_instr'] = 0 \n",
    "data_skills['primary_skills'] = 1 \n",
    "\n",
    "for key, value in instr_dict.items():\n",
    "    data_skills['weight_instr'].loc[data_skills['type'] == '{}'.format(key)] = value \n",
    "    \n",
    "for key, value in primary_skills.items():\n",
    "    data_skills['primary_skills'].loc[data_skills['evo_name'] == '{}'.format(value)] = 23    "
   ]
  },
  {
   "cell_type": "code",
   "execution_count": 461,
   "metadata": {},
   "outputs": [],
   "source": [
    "data_skills = data_skills.merge(1/(data_skills['name'].value_counts()), left_on='name', right_index=True)"
   ]
  },
  {
   "cell_type": "code",
   "execution_count": 463,
   "metadata": {},
   "outputs": [],
   "source": [
    "for key, value in primary_skills.items():\n",
    "    ar_vr = data_skills[data_skills['direction'] == '{}'.format(key)]\n",
    "    list_of = []\n",
    "    for i in range(len(texts_sample)):\n",
    "        recall_w = len(ar_vr[ar_vr['text_{}'.format(i)] != 0]) / len(ar_vr) \n",
    "        list_of.append((ar_vr['text_{}'.format(i)] * \n",
    "                        ar_vr['percent'] *\n",
    "                        ar_vr['weight_instr'] *\n",
    "                        ar_vr['primary_skills'] *\n",
    "                        ar_vr['name_y']).sum() + recall_w)\n",
    "    list_of=pd.Series(list_of)\n",
    "    texts_sample['{}'.format(key)] = list_of"
   ]
  },
  {
   "cell_type": "code",
   "execution_count": 464,
   "metadata": {},
   "outputs": [],
   "source": [
    "fin_course = pd.DataFrame()\n",
    "for key, value in primary_skills.items():\n",
    "    temp = texts_sample[['id', 'title_of_program', '{}'.format(key), 'provider']]\n",
    "    temp = temp.sort_values(by='{}'.format(key), ascending=False).head(5)\n",
    "    temp['category'] = key\n",
    "    temp = temp.drop(columns='{}'.format(key))\n",
    "    fin_course = pd.concat([fin_course, temp])"
   ]
  },
  {
   "cell_type": "code",
   "execution_count": 471,
   "metadata": {},
   "outputs": [],
   "source": [
    "fin_course.to_csv('fin_vuz.csv')"
   ]
  }
 ],
 "metadata": {
  "kernelspec": {
   "display_name": "Python 3",
   "language": "python",
   "name": "python3"
  },
  "language_info": {
   "codemirror_mode": {
    "name": "ipython",
    "version": 3
   },
   "file_extension": ".py",
   "mimetype": "text/x-python",
   "name": "python",
   "nbconvert_exporter": "python",
   "pygments_lexer": "ipython3",
   "version": "3.7.6"
  }
 },
 "nbformat": 4,
 "nbformat_minor": 4
}
